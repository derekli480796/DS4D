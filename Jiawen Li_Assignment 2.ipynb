{
 "cells": [
  {
   "cell_type": "markdown",
   "metadata": {},
   "source": [
    "# I'm in Group 17, our project is to analyze the data set collected from an online entertainment app called 'CleverCogs' used by BlackWood for their residences. Our goal is to find useful information from the data set and provide an informative analysis of the usage of the app, to help the stakeholders and development team to better understand their user and to make better design decisions. "
   ]
  },
  {
   "cell_type": "markdown",
   "metadata": {},
   "source": [
    "### The data holder has assigned several tasks for the project. My responsibility is to 1. Find out what is the most popular activity / 2. Try to analyz the correlation between each activity / 3. Look into the correlation between the user's characteristics and activities. "
   ]
  },
  {
   "cell_type": "markdown",
   "metadata": {},
   "source": [
    " "
   ]
  },
  {
   "cell_type": "markdown",
   "metadata": {},
   "source": [
    " "
   ]
  },
  {
   "cell_type": "code",
   "execution_count": 1,
   "metadata": {},
   "outputs": [],
   "source": [
    "import pandas as pd\n",
    "import numpy as np\n",
    "import matplotlib.pyplot as plt\n",
    "import matplotlib\n",
    "import seaborn as sns\n",
    "from matplotlib.pyplot import figure"
   ]
  },
  {
   "cell_type": "markdown",
   "metadata": {},
   "source": [
    "# Describe Data Set"
   ]
  },
  {
   "cell_type": "markdown",
   "metadata": {},
   "source": [
    "#### According to the following code, we can see that this data set is tabular. It contains both numeric and textual values. The data set has 314766 rows and 8 columns. "
   ]
  },
  {
   "cell_type": "markdown",
   "metadata": {},
   "source": [
    "#### Some of the columns in the data frame are useless regarding on my tasks, so I will clean up the data set in the next step."
   ]
  },
  {
   "cell_type": "code",
   "execution_count": 2,
   "metadata": {},
   "outputs": [],
   "source": [
    "df = pd.read_csv('CC_Data_2020.csv')"
   ]
  },
  {
   "cell_type": "code",
   "execution_count": 3,
   "metadata": {},
   "outputs": [
    {
     "data": {
      "text/html": [
       "<div>\n",
       "<style scoped>\n",
       "    .dataframe tbody tr th:only-of-type {\n",
       "        vertical-align: middle;\n",
       "    }\n",
       "\n",
       "    .dataframe tbody tr th {\n",
       "        vertical-align: top;\n",
       "    }\n",
       "\n",
       "    .dataframe thead th {\n",
       "        text-align: right;\n",
       "    }\n",
       "</style>\n",
       "<table border=\"1\" class=\"dataframe\">\n",
       "  <thead>\n",
       "    <tr style=\"text-align: right;\">\n",
       "      <th></th>\n",
       "      <th>Time</th>\n",
       "      <th>VisitorID</th>\n",
       "      <th>ExternalID</th>\n",
       "      <th>Users</th>\n",
       "      <th>Accommodation</th>\n",
       "      <th>LinkTitle</th>\n",
       "      <th>LinkType</th>\n",
       "      <th>ContentInfo</th>\n",
       "    </tr>\n",
       "  </thead>\n",
       "  <tbody>\n",
       "    <tr>\n",
       "      <th>0</th>\n",
       "      <td>10/30/20 13:16</td>\n",
       "      <td>9EDD833D-9D6B-46AC-A85E-DF21425162C4</td>\n",
       "      <td>8846.0</td>\n",
       "      <td>User</td>\n",
       "      <td>Night Support Service</td>\n",
       "      <td>Youtube Music</td>\n",
       "      <td>Internet</td>\n",
       "      <td>NaN</td>\n",
       "    </tr>\n",
       "    <tr>\n",
       "      <th>1</th>\n",
       "      <td>10/30/20 13:14</td>\n",
       "      <td>9EDD833D-9D6B-46AC-A85E-DF21425162C4</td>\n",
       "      <td>8846.0</td>\n",
       "      <td>User</td>\n",
       "      <td>Night Support Service</td>\n",
       "      <td>Youtube Music</td>\n",
       "      <td>Internet</td>\n",
       "      <td>NaN</td>\n",
       "    </tr>\n",
       "    <tr>\n",
       "      <th>2</th>\n",
       "      <td>10/30/20 13:14</td>\n",
       "      <td>9EDD833D-9D6B-46AC-A85E-DF21425162C4</td>\n",
       "      <td>8846.0</td>\n",
       "      <td>User</td>\n",
       "      <td>Night Support Service</td>\n",
       "      <td>My Music</td>\n",
       "      <td>Category</td>\n",
       "      <td>NaN</td>\n",
       "    </tr>\n",
       "    <tr>\n",
       "      <th>3</th>\n",
       "      <td>10/30/20 13:14</td>\n",
       "      <td>9EDD833D-9D6B-46AC-A85E-DF21425162C4</td>\n",
       "      <td>8846.0</td>\n",
       "      <td>User</td>\n",
       "      <td>Night Support Service</td>\n",
       "      <td>Entertainment</td>\n",
       "      <td>Category</td>\n",
       "      <td>NaN</td>\n",
       "    </tr>\n",
       "    <tr>\n",
       "      <th>4</th>\n",
       "      <td>10/30/20 13:01</td>\n",
       "      <td>679CBA7A-948B-4F2E-9432-002DDD5FFF8A</td>\n",
       "      <td>NaN</td>\n",
       "      <td>User</td>\n",
       "      <td>Broom Main Building</td>\n",
       "      <td>Forth 2</td>\n",
       "      <td>Radio</td>\n",
       "      <td>NaN</td>\n",
       "    </tr>\n",
       "  </tbody>\n",
       "</table>\n",
       "</div>"
      ],
      "text/plain": [
       "             Time                             VisitorID  ExternalID Users  \\\n",
       "0  10/30/20 13:16  9EDD833D-9D6B-46AC-A85E-DF21425162C4      8846.0  User   \n",
       "1  10/30/20 13:14  9EDD833D-9D6B-46AC-A85E-DF21425162C4      8846.0  User   \n",
       "2  10/30/20 13:14  9EDD833D-9D6B-46AC-A85E-DF21425162C4      8846.0  User   \n",
       "3  10/30/20 13:14  9EDD833D-9D6B-46AC-A85E-DF21425162C4      8846.0  User   \n",
       "4  10/30/20 13:01  679CBA7A-948B-4F2E-9432-002DDD5FFF8A         NaN  User   \n",
       "\n",
       "           Accommodation      LinkTitle  LinkType ContentInfo  \n",
       "0  Night Support Service  Youtube Music  Internet         NaN  \n",
       "1  Night Support Service  Youtube Music  Internet         NaN  \n",
       "2  Night Support Service       My Music  Category         NaN  \n",
       "3  Night Support Service  Entertainment  Category         NaN  \n",
       "4    Broom Main Building        Forth 2     Radio         NaN  "
      ]
     },
     "execution_count": 3,
     "metadata": {},
     "output_type": "execute_result"
    }
   ],
   "source": [
    "df.head()"
   ]
  },
  {
   "cell_type": "code",
   "execution_count": 4,
   "metadata": {},
   "outputs": [
    {
     "data": {
      "text/html": [
       "<div>\n",
       "<style scoped>\n",
       "    .dataframe tbody tr th:only-of-type {\n",
       "        vertical-align: middle;\n",
       "    }\n",
       "\n",
       "    .dataframe tbody tr th {\n",
       "        vertical-align: top;\n",
       "    }\n",
       "\n",
       "    .dataframe thead th {\n",
       "        text-align: right;\n",
       "    }\n",
       "</style>\n",
       "<table border=\"1\" class=\"dataframe\">\n",
       "  <thead>\n",
       "    <tr style=\"text-align: right;\">\n",
       "      <th></th>\n",
       "      <th>Time</th>\n",
       "      <th>VisitorID</th>\n",
       "      <th>ExternalID</th>\n",
       "      <th>Users</th>\n",
       "      <th>Accommodation</th>\n",
       "      <th>LinkTitle</th>\n",
       "      <th>LinkType</th>\n",
       "      <th>ContentInfo</th>\n",
       "    </tr>\n",
       "  </thead>\n",
       "  <tbody>\n",
       "    <tr>\n",
       "      <th>314761</th>\n",
       "      <td>10/29/18 1:27</td>\n",
       "      <td>3FBBBB99-E67F-4511-B9B1-8F402B89DBE5</td>\n",
       "      <td>5107.0</td>\n",
       "      <td>User</td>\n",
       "      <td>NaN</td>\n",
       "      <td>Red Hot Chili Peppers</td>\n",
       "      <td>Internet</td>\n",
       "      <td>NaN</td>\n",
       "    </tr>\n",
       "    <tr>\n",
       "      <th>314762</th>\n",
       "      <td>10/29/18 1:27</td>\n",
       "      <td>3FBBBB99-E67F-4511-B9B1-8F402B89DBE5</td>\n",
       "      <td>5107.0</td>\n",
       "      <td>User</td>\n",
       "      <td>NaN</td>\n",
       "      <td>My Music</td>\n",
       "      <td>Category</td>\n",
       "      <td>NaN</td>\n",
       "    </tr>\n",
       "    <tr>\n",
       "      <th>314763</th>\n",
       "      <td>10/29/18 1:27</td>\n",
       "      <td>3FBBBB99-E67F-4511-B9B1-8F402B89DBE5</td>\n",
       "      <td>5107.0</td>\n",
       "      <td>User</td>\n",
       "      <td>NaN</td>\n",
       "      <td>Entertainment</td>\n",
       "      <td>Category</td>\n",
       "      <td>NaN</td>\n",
       "    </tr>\n",
       "    <tr>\n",
       "      <th>314764</th>\n",
       "      <td>10/29/18 0:59</td>\n",
       "      <td>7B0FC8AD-6EF6-4760-A236-DB0BF969EED7</td>\n",
       "      <td>8639.0</td>\n",
       "      <td>User</td>\n",
       "      <td>Night Support Service</td>\n",
       "      <td>My Music</td>\n",
       "      <td>Category</td>\n",
       "      <td>NaN</td>\n",
       "    </tr>\n",
       "    <tr>\n",
       "      <th>314765</th>\n",
       "      <td>10/29/18 0:58</td>\n",
       "      <td>7B0FC8AD-6EF6-4760-A236-DB0BF969EED7</td>\n",
       "      <td>8639.0</td>\n",
       "      <td>User</td>\n",
       "      <td>Night Support Service</td>\n",
       "      <td>Entertainment</td>\n",
       "      <td>Category</td>\n",
       "      <td>NaN</td>\n",
       "    </tr>\n",
       "  </tbody>\n",
       "</table>\n",
       "</div>"
      ],
      "text/plain": [
       "                 Time                             VisitorID  ExternalID Users  \\\n",
       "314761  10/29/18 1:27  3FBBBB99-E67F-4511-B9B1-8F402B89DBE5      5107.0  User   \n",
       "314762  10/29/18 1:27  3FBBBB99-E67F-4511-B9B1-8F402B89DBE5      5107.0  User   \n",
       "314763  10/29/18 1:27  3FBBBB99-E67F-4511-B9B1-8F402B89DBE5      5107.0  User   \n",
       "314764  10/29/18 0:59  7B0FC8AD-6EF6-4760-A236-DB0BF969EED7      8639.0  User   \n",
       "314765  10/29/18 0:58  7B0FC8AD-6EF6-4760-A236-DB0BF969EED7      8639.0  User   \n",
       "\n",
       "                Accommodation              LinkTitle  LinkType ContentInfo  \n",
       "314761                    NaN  Red Hot Chili Peppers  Internet         NaN  \n",
       "314762                    NaN               My Music  Category         NaN  \n",
       "314763                    NaN          Entertainment  Category         NaN  \n",
       "314764  Night Support Service               My Music  Category         NaN  \n",
       "314765  Night Support Service          Entertainment  Category         NaN  "
      ]
     },
     "execution_count": 4,
     "metadata": {},
     "output_type": "execute_result"
    }
   ],
   "source": [
    "df.tail()"
   ]
  },
  {
   "cell_type": "code",
   "execution_count": 5,
   "metadata": {},
   "outputs": [
    {
     "data": {
      "text/plain": [
       "Index(['Time', 'VisitorID', 'ExternalID', 'Users', 'Accommodation',\n",
       "       'LinkTitle', 'LinkType', 'ContentInfo'],\n",
       "      dtype='object')"
      ]
     },
     "execution_count": 5,
     "metadata": {},
     "output_type": "execute_result"
    }
   ],
   "source": [
    "df.columns"
   ]
  },
  {
   "cell_type": "code",
   "execution_count": 6,
   "metadata": {},
   "outputs": [
    {
     "data": {
      "text/plain": [
       "(314766, 8)"
      ]
     },
     "execution_count": 6,
     "metadata": {},
     "output_type": "execute_result"
    }
   ],
   "source": [
    "df.shape"
   ]
  },
  {
   "cell_type": "code",
   "execution_count": 7,
   "metadata": {},
   "outputs": [
    {
     "data": {
      "text/plain": [
       "1395"
      ]
     },
     "execution_count": 7,
     "metadata": {},
     "output_type": "execute_result"
    }
   ],
   "source": [
    "df['LinkTitle'].nunique()"
   ]
  },
  {
   "cell_type": "markdown",
   "metadata": {},
   "source": [
    " "
   ]
  },
  {
   "cell_type": "markdown",
   "metadata": {},
   "source": [
    " "
   ]
  },
  {
   "cell_type": "markdown",
   "metadata": {},
   "source": [
    "# Data Cleaning"
   ]
  },
  {
   "cell_type": "markdown",
   "metadata": {},
   "source": [
    "#### According to the previous code, we can have a general understanding of the data. I can use the Time column to count the Times the use access to a certain activity, use the ExternalID column to identify the unique users, LinkTitle to sort the most popular activity, and use the LinkType to see the activity type. So other than these four columns, I've dropped all other useless values."
   ]
  },
  {
   "cell_type": "code",
   "execution_count": 8,
   "metadata": {},
   "outputs": [
    {
     "data": {
      "text/html": [
       "<div>\n",
       "<style scoped>\n",
       "    .dataframe tbody tr th:only-of-type {\n",
       "        vertical-align: middle;\n",
       "    }\n",
       "\n",
       "    .dataframe tbody tr th {\n",
       "        vertical-align: top;\n",
       "    }\n",
       "\n",
       "    .dataframe thead th {\n",
       "        text-align: right;\n",
       "    }\n",
       "</style>\n",
       "<table border=\"1\" class=\"dataframe\">\n",
       "  <thead>\n",
       "    <tr style=\"text-align: right;\">\n",
       "      <th></th>\n",
       "      <th>Time</th>\n",
       "      <th>ExternalID</th>\n",
       "      <th>LinkTitle</th>\n",
       "      <th>LinkType</th>\n",
       "    </tr>\n",
       "  </thead>\n",
       "  <tbody>\n",
       "    <tr>\n",
       "      <th>0</th>\n",
       "      <td>10/30/20 13:16</td>\n",
       "      <td>8846.0</td>\n",
       "      <td>Youtube Music</td>\n",
       "      <td>Internet</td>\n",
       "    </tr>\n",
       "    <tr>\n",
       "      <th>1</th>\n",
       "      <td>10/30/20 13:14</td>\n",
       "      <td>8846.0</td>\n",
       "      <td>Youtube Music</td>\n",
       "      <td>Internet</td>\n",
       "    </tr>\n",
       "    <tr>\n",
       "      <th>2</th>\n",
       "      <td>10/30/20 13:14</td>\n",
       "      <td>8846.0</td>\n",
       "      <td>My Music</td>\n",
       "      <td>Category</td>\n",
       "    </tr>\n",
       "    <tr>\n",
       "      <th>3</th>\n",
       "      <td>10/30/20 13:14</td>\n",
       "      <td>8846.0</td>\n",
       "      <td>Entertainment</td>\n",
       "      <td>Category</td>\n",
       "    </tr>\n",
       "    <tr>\n",
       "      <th>4</th>\n",
       "      <td>10/30/20 13:01</td>\n",
       "      <td>NaN</td>\n",
       "      <td>Forth 2</td>\n",
       "      <td>Radio</td>\n",
       "    </tr>\n",
       "    <tr>\n",
       "      <th>...</th>\n",
       "      <td>...</td>\n",
       "      <td>...</td>\n",
       "      <td>...</td>\n",
       "      <td>...</td>\n",
       "    </tr>\n",
       "    <tr>\n",
       "      <th>314761</th>\n",
       "      <td>10/29/18 1:27</td>\n",
       "      <td>5107.0</td>\n",
       "      <td>Red Hot Chili Peppers</td>\n",
       "      <td>Internet</td>\n",
       "    </tr>\n",
       "    <tr>\n",
       "      <th>314762</th>\n",
       "      <td>10/29/18 1:27</td>\n",
       "      <td>5107.0</td>\n",
       "      <td>My Music</td>\n",
       "      <td>Category</td>\n",
       "    </tr>\n",
       "    <tr>\n",
       "      <th>314763</th>\n",
       "      <td>10/29/18 1:27</td>\n",
       "      <td>5107.0</td>\n",
       "      <td>Entertainment</td>\n",
       "      <td>Category</td>\n",
       "    </tr>\n",
       "    <tr>\n",
       "      <th>314764</th>\n",
       "      <td>10/29/18 0:59</td>\n",
       "      <td>8639.0</td>\n",
       "      <td>My Music</td>\n",
       "      <td>Category</td>\n",
       "    </tr>\n",
       "    <tr>\n",
       "      <th>314765</th>\n",
       "      <td>10/29/18 0:58</td>\n",
       "      <td>8639.0</td>\n",
       "      <td>Entertainment</td>\n",
       "      <td>Category</td>\n",
       "    </tr>\n",
       "  </tbody>\n",
       "</table>\n",
       "<p>314766 rows × 4 columns</p>\n",
       "</div>"
      ],
      "text/plain": [
       "                  Time  ExternalID              LinkTitle  LinkType\n",
       "0       10/30/20 13:16      8846.0          Youtube Music  Internet\n",
       "1       10/30/20 13:14      8846.0          Youtube Music  Internet\n",
       "2       10/30/20 13:14      8846.0               My Music  Category\n",
       "3       10/30/20 13:14      8846.0          Entertainment  Category\n",
       "4       10/30/20 13:01         NaN                Forth 2     Radio\n",
       "...                ...         ...                    ...       ...\n",
       "314761   10/29/18 1:27      5107.0  Red Hot Chili Peppers  Internet\n",
       "314762   10/29/18 1:27      5107.0               My Music  Category\n",
       "314763   10/29/18 1:27      5107.0          Entertainment  Category\n",
       "314764   10/29/18 0:59      8639.0               My Music  Category\n",
       "314765   10/29/18 0:58      8639.0          Entertainment  Category\n",
       "\n",
       "[314766 rows x 4 columns]"
      ]
     },
     "execution_count": 8,
     "metadata": {},
     "output_type": "execute_result"
    }
   ],
   "source": [
    "CC_data = df.drop(columns=['VisitorID', 'Users', 'Accommodation', 'ContentInfo'])\n",
    "CC_data"
   ]
  },
  {
   "cell_type": "code",
   "execution_count": 9,
   "metadata": {},
   "outputs": [
    {
     "data": {
      "text/html": [
       "<div>\n",
       "<style scoped>\n",
       "    .dataframe tbody tr th:only-of-type {\n",
       "        vertical-align: middle;\n",
       "    }\n",
       "\n",
       "    .dataframe tbody tr th {\n",
       "        vertical-align: top;\n",
       "    }\n",
       "\n",
       "    .dataframe thead th {\n",
       "        text-align: right;\n",
       "    }\n",
       "</style>\n",
       "<table border=\"1\" class=\"dataframe\">\n",
       "  <thead>\n",
       "    <tr style=\"text-align: right;\">\n",
       "      <th></th>\n",
       "      <th>Time</th>\n",
       "      <th>ExternalID</th>\n",
       "      <th>LinkTitle</th>\n",
       "      <th>LinkType</th>\n",
       "    </tr>\n",
       "  </thead>\n",
       "  <tbody>\n",
       "    <tr>\n",
       "      <th>0</th>\n",
       "      <td>10/30/20 13:16</td>\n",
       "      <td>8846.0</td>\n",
       "      <td>Youtube Music</td>\n",
       "      <td>Internet</td>\n",
       "    </tr>\n",
       "    <tr>\n",
       "      <th>1</th>\n",
       "      <td>10/30/20 13:14</td>\n",
       "      <td>8846.0</td>\n",
       "      <td>Youtube Music</td>\n",
       "      <td>Internet</td>\n",
       "    </tr>\n",
       "    <tr>\n",
       "      <th>2</th>\n",
       "      <td>10/30/20 13:14</td>\n",
       "      <td>8846.0</td>\n",
       "      <td>My Music</td>\n",
       "      <td>Category</td>\n",
       "    </tr>\n",
       "    <tr>\n",
       "      <th>3</th>\n",
       "      <td>10/30/20 13:14</td>\n",
       "      <td>8846.0</td>\n",
       "      <td>Entertainment</td>\n",
       "      <td>Category</td>\n",
       "    </tr>\n",
       "    <tr>\n",
       "      <th>4</th>\n",
       "      <td>10/30/20 13:01</td>\n",
       "      <td>nan</td>\n",
       "      <td>Forth 2</td>\n",
       "      <td>Radio</td>\n",
       "    </tr>\n",
       "    <tr>\n",
       "      <th>...</th>\n",
       "      <td>...</td>\n",
       "      <td>...</td>\n",
       "      <td>...</td>\n",
       "      <td>...</td>\n",
       "    </tr>\n",
       "    <tr>\n",
       "      <th>314761</th>\n",
       "      <td>10/29/18 1:27</td>\n",
       "      <td>5107.0</td>\n",
       "      <td>Red Hot Chili Peppers</td>\n",
       "      <td>Internet</td>\n",
       "    </tr>\n",
       "    <tr>\n",
       "      <th>314762</th>\n",
       "      <td>10/29/18 1:27</td>\n",
       "      <td>5107.0</td>\n",
       "      <td>My Music</td>\n",
       "      <td>Category</td>\n",
       "    </tr>\n",
       "    <tr>\n",
       "      <th>314763</th>\n",
       "      <td>10/29/18 1:27</td>\n",
       "      <td>5107.0</td>\n",
       "      <td>Entertainment</td>\n",
       "      <td>Category</td>\n",
       "    </tr>\n",
       "    <tr>\n",
       "      <th>314764</th>\n",
       "      <td>10/29/18 0:59</td>\n",
       "      <td>8639.0</td>\n",
       "      <td>My Music</td>\n",
       "      <td>Category</td>\n",
       "    </tr>\n",
       "    <tr>\n",
       "      <th>314765</th>\n",
       "      <td>10/29/18 0:58</td>\n",
       "      <td>8639.0</td>\n",
       "      <td>Entertainment</td>\n",
       "      <td>Category</td>\n",
       "    </tr>\n",
       "  </tbody>\n",
       "</table>\n",
       "<p>314766 rows × 4 columns</p>\n",
       "</div>"
      ],
      "text/plain": [
       "                  Time ExternalID              LinkTitle  LinkType\n",
       "0       10/30/20 13:16     8846.0          Youtube Music  Internet\n",
       "1       10/30/20 13:14     8846.0          Youtube Music  Internet\n",
       "2       10/30/20 13:14     8846.0               My Music  Category\n",
       "3       10/30/20 13:14     8846.0          Entertainment  Category\n",
       "4       10/30/20 13:01        nan                Forth 2     Radio\n",
       "...                ...        ...                    ...       ...\n",
       "314761   10/29/18 1:27     5107.0  Red Hot Chili Peppers  Internet\n",
       "314762   10/29/18 1:27     5107.0               My Music  Category\n",
       "314763   10/29/18 1:27     5107.0          Entertainment  Category\n",
       "314764   10/29/18 0:59     8639.0               My Music  Category\n",
       "314765   10/29/18 0:58     8639.0          Entertainment  Category\n",
       "\n",
       "[314766 rows x 4 columns]"
      ]
     },
     "execution_count": 9,
     "metadata": {},
     "output_type": "execute_result"
    }
   ],
   "source": [
    "# For Task 1\n",
    "CC_data1 = df.drop(columns=['VisitorID', 'Users', 'Accommodation', 'ContentInfo']).applymap(str)\n",
    "CC_data1"
   ]
  },
  {
   "cell_type": "markdown",
   "metadata": {},
   "source": [
    " "
   ]
  },
  {
   "cell_type": "markdown",
   "metadata": {},
   "source": [
    " "
   ]
  },
  {
   "cell_type": "markdown",
   "metadata": {},
   "source": [
    " \n",
    " "
   ]
  },
  {
   "cell_type": "markdown",
   "metadata": {},
   "source": [
    "# Task 1: Most popular avtivities"
   ]
  },
  {
   "cell_type": "markdown",
   "metadata": {},
   "source": [
    "    According to the first section of the data, the LinkType column mainly consists of Internet and Category, so I assume that this entertainment app has two main categories, which are built-in activities and online activity. Then according to the count of the unique value, there is 1395 different activity, I believe that it is not necessary to count all the value into analysis since you can't control what people viewing online.  "
   ]
  },
  {
   "cell_type": "markdown",
   "metadata": {},
   "source": [
    "    So, I decided to find out what are the top 20 most popular activities in general, top 10 for built-in activity, and top 10 internet activity. I believe this could help the development or design team to better understand the user's interest, to make better design decisions maybe such as adding new features to the built-in activity that previously not in the app."
   ]
  },
  {
   "cell_type": "markdown",
   "metadata": {},
   "source": [
    "### Top 20 Activities in General"
   ]
  },
  {
   "cell_type": "code",
   "execution_count": 10,
   "metadata": {},
   "outputs": [
    {
     "name": "stdout",
     "output_type": "stream",
     "text": [
      "Entertainment          43117\n",
      "My Interests           17196\n",
      "YouTube                16378\n",
      "Google                 15373\n",
      "My Music               14975\n",
      "Play Games             12760\n",
      "Card Matching Games    12433\n",
      "Single Player Games     9720\n",
      "Videos                  9384\n",
      "Patience                7655\n",
      "Information             7228\n",
      "Online TV               6728\n",
      "Youtube Music           6359\n",
      "Radio Stations          5696\n",
      "Youtube                 4708\n",
      "BBC Football            4215\n",
      "Family & Friends        3780\n",
      "Celtic FC               3408\n",
      "Solitaire               3375\n",
      "Smooth Radio            2798\n",
      "Name: LinkTitle, dtype: int64\n"
     ]
    }
   ],
   "source": [
    "top20_general = CC_data.LinkTitle.value_counts()[:20]\n",
    "print(top20_general)"
   ]
  },
  {
   "cell_type": "markdown",
   "metadata": {},
   "source": [
    "### Top 10 Built-in Activities"
   ]
  },
  {
   "cell_type": "code",
   "execution_count": 11,
   "metadata": {},
   "outputs": [
    {
     "data": {
      "text/html": [
       "<div>\n",
       "<style scoped>\n",
       "    .dataframe tbody tr th:only-of-type {\n",
       "        vertical-align: middle;\n",
       "    }\n",
       "\n",
       "    .dataframe tbody tr th {\n",
       "        vertical-align: top;\n",
       "    }\n",
       "\n",
       "    .dataframe thead th {\n",
       "        text-align: right;\n",
       "    }\n",
       "</style>\n",
       "<table border=\"1\" class=\"dataframe\">\n",
       "  <thead>\n",
       "    <tr style=\"text-align: right;\">\n",
       "      <th></th>\n",
       "      <th>Time</th>\n",
       "      <th>ExternalID</th>\n",
       "      <th>LinkType</th>\n",
       "    </tr>\n",
       "    <tr>\n",
       "      <th>LinkTitle</th>\n",
       "      <th></th>\n",
       "      <th></th>\n",
       "      <th></th>\n",
       "    </tr>\n",
       "  </thead>\n",
       "  <tbody>\n",
       "    <tr>\n",
       "      <th>Entertainment</th>\n",
       "      <td>43117</td>\n",
       "      <td>43117</td>\n",
       "      <td>43117</td>\n",
       "    </tr>\n",
       "    <tr>\n",
       "      <th>My Interests</th>\n",
       "      <td>17196</td>\n",
       "      <td>17196</td>\n",
       "      <td>17196</td>\n",
       "    </tr>\n",
       "    <tr>\n",
       "      <th>My Music</th>\n",
       "      <td>14975</td>\n",
       "      <td>14975</td>\n",
       "      <td>14975</td>\n",
       "    </tr>\n",
       "    <tr>\n",
       "      <th>Play Games</th>\n",
       "      <td>12760</td>\n",
       "      <td>12760</td>\n",
       "      <td>12760</td>\n",
       "    </tr>\n",
       "    <tr>\n",
       "      <th>Single Player Games</th>\n",
       "      <td>9720</td>\n",
       "      <td>9720</td>\n",
       "      <td>9720</td>\n",
       "    </tr>\n",
       "    <tr>\n",
       "      <th>Videos</th>\n",
       "      <td>9384</td>\n",
       "      <td>9384</td>\n",
       "      <td>9384</td>\n",
       "    </tr>\n",
       "    <tr>\n",
       "      <th>Information</th>\n",
       "      <td>7228</td>\n",
       "      <td>7228</td>\n",
       "      <td>7228</td>\n",
       "    </tr>\n",
       "    <tr>\n",
       "      <th>Online TV</th>\n",
       "      <td>6728</td>\n",
       "      <td>6728</td>\n",
       "      <td>6728</td>\n",
       "    </tr>\n",
       "    <tr>\n",
       "      <th>Radio Stations</th>\n",
       "      <td>5696</td>\n",
       "      <td>5696</td>\n",
       "      <td>5696</td>\n",
       "    </tr>\n",
       "    <tr>\n",
       "      <th>Ask For</th>\n",
       "      <td>2534</td>\n",
       "      <td>2534</td>\n",
       "      <td>2534</td>\n",
       "    </tr>\n",
       "  </tbody>\n",
       "</table>\n",
       "</div>"
      ],
      "text/plain": [
       "                      Time  ExternalID  LinkType\n",
       "LinkTitle                                       \n",
       "Entertainment        43117       43117     43117\n",
       "My Interests         17196       17196     17196\n",
       "My Music             14975       14975     14975\n",
       "Play Games           12760       12760     12760\n",
       "Single Player Games   9720        9720      9720\n",
       "Videos                9384        9384      9384\n",
       "Information           7228        7228      7228\n",
       "Online TV             6728        6728      6728\n",
       "Radio Stations        5696        5696      5696\n",
       "Ask For               2534        2534      2534"
      ]
     },
     "execution_count": 11,
     "metadata": {},
     "output_type": "execute_result"
    }
   ],
   "source": [
    "bi = CC_data1[CC_data1.LinkType.str.contains('Category')]\n",
    "top10_bi = bi.groupby(['LinkTitle']).count().sort_values(by='Time', ascending=False).head(10)\n",
    "top10_bi"
   ]
  },
  {
   "cell_type": "code",
   "execution_count": 12,
   "metadata": {},
   "outputs": [
    {
     "data": {
      "image/png": "[encoded data removed]",
      "text/plain": [
       "<Figure size 1152x576 with 1 Axes>"
      ]
     },
     "metadata": {
      "needs_background": "light"
     },
     "output_type": "display_data"
    }
   ],
   "source": [
    "top10_reset1 = top10_bi.reset_index()\n",
    "ax = top10_reset1.plot.bar(x='LinkTitle', y='Time', rot=0, figsize=(16,8))"
   ]
  },
  {
   "cell_type": "markdown",
   "metadata": {},
   "source": [
    "### Top 10 Internet Activities"
   ]
  },
  {
   "cell_type": "code",
   "execution_count": 13,
   "metadata": {},
   "outputs": [
    {
     "data": {
      "text/html": [
       "<div>\n",
       "<style scoped>\n",
       "    .dataframe tbody tr th:only-of-type {\n",
       "        vertical-align: middle;\n",
       "    }\n",
       "\n",
       "    .dataframe tbody tr th {\n",
       "        vertical-align: top;\n",
       "    }\n",
       "\n",
       "    .dataframe thead th {\n",
       "        text-align: right;\n",
       "    }\n",
       "</style>\n",
       "<table border=\"1\" class=\"dataframe\">\n",
       "  <thead>\n",
       "    <tr style=\"text-align: right;\">\n",
       "      <th></th>\n",
       "      <th>Time</th>\n",
       "      <th>ExternalID</th>\n",
       "      <th>LinkType</th>\n",
       "    </tr>\n",
       "    <tr>\n",
       "      <th>LinkTitle</th>\n",
       "      <th></th>\n",
       "      <th></th>\n",
       "      <th></th>\n",
       "    </tr>\n",
       "  </thead>\n",
       "  <tbody>\n",
       "    <tr>\n",
       "      <th>YouTube</th>\n",
       "      <td>16378</td>\n",
       "      <td>16378</td>\n",
       "      <td>16378</td>\n",
       "    </tr>\n",
       "    <tr>\n",
       "      <th>Google</th>\n",
       "      <td>15373</td>\n",
       "      <td>15373</td>\n",
       "      <td>15373</td>\n",
       "    </tr>\n",
       "    <tr>\n",
       "      <th>Card Matching Games</th>\n",
       "      <td>12433</td>\n",
       "      <td>12433</td>\n",
       "      <td>12433</td>\n",
       "    </tr>\n",
       "    <tr>\n",
       "      <th>Youtube Music</th>\n",
       "      <td>6359</td>\n",
       "      <td>6359</td>\n",
       "      <td>6359</td>\n",
       "    </tr>\n",
       "    <tr>\n",
       "      <th>Youtube</th>\n",
       "      <td>4708</td>\n",
       "      <td>4708</td>\n",
       "      <td>4708</td>\n",
       "    </tr>\n",
       "    <tr>\n",
       "      <th>BBC Football</th>\n",
       "      <td>4215</td>\n",
       "      <td>4215</td>\n",
       "      <td>4215</td>\n",
       "    </tr>\n",
       "    <tr>\n",
       "      <th>Family &amp; Friends</th>\n",
       "      <td>3780</td>\n",
       "      <td>3780</td>\n",
       "      <td>3780</td>\n",
       "    </tr>\n",
       "    <tr>\n",
       "      <th>Celtic FC</th>\n",
       "      <td>3408</td>\n",
       "      <td>3408</td>\n",
       "      <td>3408</td>\n",
       "    </tr>\n",
       "    <tr>\n",
       "      <th>Solitaire</th>\n",
       "      <td>3375</td>\n",
       "      <td>3375</td>\n",
       "      <td>3375</td>\n",
       "    </tr>\n",
       "    <tr>\n",
       "      <th>Online Radio Box</th>\n",
       "      <td>2761</td>\n",
       "      <td>2761</td>\n",
       "      <td>2761</td>\n",
       "    </tr>\n",
       "  </tbody>\n",
       "</table>\n",
       "</div>"
      ],
      "text/plain": [
       "                      Time  ExternalID  LinkType\n",
       "LinkTitle                                       \n",
       "YouTube              16378       16378     16378\n",
       "Google               15373       15373     15373\n",
       "Card Matching Games  12433       12433     12433\n",
       "Youtube Music         6359        6359      6359\n",
       "Youtube               4708        4708      4708\n",
       "BBC Football          4215        4215      4215\n",
       "Family & Friends      3780        3780      3780\n",
       "Celtic FC             3408        3408      3408\n",
       "Solitaire             3375        3375      3375\n",
       "Online Radio Box      2761        2761      2761"
      ]
     },
     "execution_count": 13,
     "metadata": {},
     "output_type": "execute_result"
    }
   ],
   "source": [
    "internet = CC_data1[CC_data1.LinkType.str.contains('Internet')]\n",
    "top10_internet = internet.groupby(['LinkTitle']).count().sort_values(by='Time', ascending=False).head(10)\n",
    "top10_internet"
   ]
  },
  {
   "cell_type": "code",
   "execution_count": 14,
   "metadata": {},
   "outputs": [
    {
     "data": {
      "image/png": "[encoded data removed]",
      "text/plain": [
       "<Figure size 1152x576 with 1 Axes>"
      ]
     },
     "metadata": {
      "needs_background": "light"
     },
     "output_type": "display_data"
    }
   ],
   "source": [
    "top10_reset2 = top10_internet.reset_index()\n",
    "ax = top10_reset2.plot.bar(x='LinkTitle', y='Time', rot=0, figsize=(16,8))"
   ]
  },
  {
   "cell_type": "markdown",
   "metadata": {},
   "source": [
    "### According to the above two tables, we can see that the top three activities access through the internet has basically the same access time compare to the top 2-4 activities in the built-in function. So I think something the development team could consider about, based on this data is that maybe add these three activities into the app as a built-in function, so the user can have easier access to these functions."
   ]
  },
  {
   "cell_type": "markdown",
   "metadata": {},
   "source": [
    " \n",
    "\n",
    "\n",
    "\n",
    "\n"
   ]
  },
  {
   "cell_type": "markdown",
   "metadata": {},
   "source": [
    " "
   ]
  },
  {
   "cell_type": "markdown",
   "metadata": {},
   "source": [
    " "
   ]
  },
  {
   "cell_type": "markdown",
   "metadata": {},
   "source": [
    " "
   ]
  },
  {
   "cell_type": "markdown",
   "metadata": {},
   "source": [
    " "
   ]
  },
  {
   "cell_type": "markdown",
   "metadata": {},
   "source": [
    "  "
   ]
  },
  {
   "cell_type": "markdown",
   "metadata": {},
   "source": [
    "# Task 2: Correlation between activities"
   ]
  },
  {
   "cell_type": "markdown",
   "metadata": {},
   "source": [
    "    Since there are more than a thousand different activities in the LinkTitle column, so it's not possible to analyze all of them, so I think it makes more sense to analyze the correlation between the top 20 most popular activities."
   ]
  },
  {
   "cell_type": "markdown",
   "metadata": {},
   "source": [
    "### Create a dataframe for top 20 activities and learn more info about the data"
   ]
  },
  {
   "cell_type": "code",
   "execution_count": 15,
   "metadata": {},
   "outputs": [],
   "source": [
    "CC_data = CC_data[CC_data.LinkTitle.isin(top20_general.index.to_list())]"
   ]
  },
  {
   "cell_type": "code",
   "execution_count": 16,
   "metadata": {},
   "outputs": [
    {
     "name": "stdout",
     "output_type": "stream",
     "text": [
      "<class 'pandas.core.frame.DataFrame'>\n",
      "Int64Index: 207286 entries, 0 to 314765\n",
      "Data columns (total 4 columns):\n",
      " #   Column      Non-Null Count   Dtype  \n",
      "---  ------      --------------   -----  \n",
      " 0   Time        207286 non-null  object \n",
      " 1   ExternalID  148894 non-null  float64\n",
      " 2   LinkTitle   207286 non-null  object \n",
      " 3   LinkType    207286 non-null  object \n",
      "dtypes: float64(1), object(3)\n",
      "memory usage: 7.9+ MB\n"
     ]
    }
   ],
   "source": [
    "CC_data.info()"
   ]
  },
  {
   "cell_type": "markdown",
   "metadata": {},
   "source": [
    "### More cleaning"
   ]
  },
  {
   "cell_type": "code",
   "execution_count": 17,
   "metadata": {},
   "outputs": [
    {
     "name": "stderr",
     "output_type": "stream",
     "text": [
      "<ipython-input-17-36694822986b>:1: SettingWithCopyWarning: \n",
      "A value is trying to be set on a copy of a slice from a DataFrame\n",
      "\n",
      "See the caveats in the documentation: https://pandas.pydata.org/pandas-docs/stable/user_guide/indexing.html#returning-a-view-versus-a-copy\n",
      "  CC_data.dropna(subset=['ExternalID'],inplace=True)\n"
     ]
    }
   ],
   "source": [
    "CC_data.dropna(subset=['ExternalID'],inplace=True)"
   ]
  },
  {
   "cell_type": "markdown",
   "metadata": {},
   "source": [
    "### Convert data to correct format inorder to analysis"
   ]
  },
  {
   "cell_type": "code",
   "execution_count": 18,
   "metadata": {},
   "outputs": [
    {
     "name": "stderr",
     "output_type": "stream",
     "text": [
      "/Users/jiawenli/opt/anaconda3/lib/python3.8/site-packages/pandas/core/generic.py:5303: SettingWithCopyWarning: \n",
      "A value is trying to be set on a copy of a slice from a DataFrame.\n",
      "Try using .loc[row_indexer,col_indexer] = value instead\n",
      "\n",
      "See the caveats in the documentation: https://pandas.pydata.org/pandas-docs/stable/user_guide/indexing.html#returning-a-view-versus-a-copy\n",
      "  self[name] = value\n"
     ]
    }
   ],
   "source": [
    "CC_data.Time = pd.to_datetime(CC_data.Time)\n",
    "CC_data.ExternalID = CC_data.ExternalID.astype(int)"
   ]
  },
  {
   "cell_type": "code",
   "execution_count": 19,
   "metadata": {},
   "outputs": [],
   "source": [
    "#I learned this from my friend, but didn't fully understnad the logic behand this\n",
    "Data_OneHot = pd.get_dummies(CC_data[['LinkTitle','LinkType']])\n",
    "CC_data = pd.concat([CC_data[['Time', 'ExternalID']],Data_OneHot],axis=1)"
   ]
  },
  {
   "cell_type": "markdown",
   "metadata": {},
   "source": [
    "### Calculate the correlation between each activity"
   ]
  },
  {
   "cell_type": "code",
   "execution_count": 20,
   "metadata": {},
   "outputs": [],
   "source": [
    "Link_Title = ['LinkTitle_BBC Football', 'LinkTitle_Card Matching Games','LinkTitle_Celtic FC', 'LinkTitle_Entertainment','LinkTitle_Family & Friends', 'LinkTitle_Google','LinkTitle_Information', 'LinkTitle_My Interests', 'LinkTitle_My Music','LinkTitle_Online TV', 'LinkTitle_Patience', 'LinkTitle_Play Games','LinkTitle_Radio Stations', 'LinkTitle_Single Player Games', 'LinkTitle_Smooth Radio', 'LinkTitle_Solitaire', 'LinkTitle_Videos','LinkTitle_YouTube', 'LinkTitle_Youtube', 'LinkTitle_Youtube Music']\n",
    "\n",
    "Link_Title_table = []\n",
    "for i in Link_Title:\n",
    "    Link_list = []\n",
    "    for j in Link_Title:\n",
    "        Link_list.append(CC_data[i].corr(CC_data[j]))\n",
    "    Link_Title_table.append(Link_list)\n",
    "#print(Link_Title_table)"
   ]
  },
  {
   "cell_type": "markdown",
   "metadata": {},
   "source": [
    "### Create a dataframe for above value and drew heatmap to visualize the data"
   ]
  },
  {
   "cell_type": "code",
   "execution_count": 21,
   "metadata": {},
   "outputs": [
    {
     "data": {
      "text/plain": [
       "<matplotlib.axes._subplots.AxesSubplot at 0x7fdb68d0d7f0>"
      ]
     },
     "execution_count": 21,
     "metadata": {},
     "output_type": "execute_result"
    },
    {
     "data": {
      "image/png": "[encoded data removed]",
      "text/plain": [
       "<Figure size 960x800 with 2 Axes>"
      ]
     },
     "metadata": {},
     "output_type": "display_data"
    }
   ],
   "source": [
    "data_frame_title = pd.DataFrame(Link_Title_table)\n",
    "\n",
    "\n",
    "data_frame_title.index = Link_Title\n",
    "data_frame_title.columns = Link_Title\n",
    "\n",
    "figure(num=None, figsize=(12, 10), dpi=80, facecolor='w', edgecolor='k')\n",
    "sns.heatmap(data_frame_title,cmap=\"RdBu_r\")"
   ]
  },
  {
   "cell_type": "markdown",
   "metadata": {},
   "source": [
    "### Based on the heatmap, we can see the relationship between each top20 popular activity. Besides the red box, the lighter the blue the tighter the activities are correlated. For example, the correlation between BBC Football and Celtic FC is high, but it's lower with Entertainment. So I think some of this information could be useful for the future improvement of the app, for example, if people who watching football in the app, the app could auto-suggest the information about Celtic FC, but for people who use more entertainment function, it might be better to recommend more function such as music, games or online video."
   ]
  },
  {
   "cell_type": "markdown",
   "metadata": {},
   "source": [
    " \n",
    "\n",
    "\n",
    "\n",
    "\n"
   ]
  },
  {
   "cell_type": "markdown",
   "metadata": {},
   "source": [
    " "
   ]
  },
  {
   "cell_type": "markdown",
   "metadata": {},
   "source": [
    " "
   ]
  },
  {
   "cell_type": "markdown",
   "metadata": {},
   "source": [
    " "
   ]
  },
  {
   "cell_type": "markdown",
   "metadata": {},
   "source": [
    " "
   ]
  },
  {
   "cell_type": "markdown",
   "metadata": {},
   "source": [
    "  "
   ]
  },
  {
   "cell_type": "markdown",
   "metadata": {},
   "source": [
    "# Tasks 3: Correlation between user's characteristics and activities."
   ]
  },
  {
   "cell_type": "markdown",
   "metadata": {},
   "source": [
    "    For task 3, there is two CSV file, so I need to merge the tow file to further processes the data, but before that, I'll do the same processes as above to get top 20 activities for the following analysis."
   ]
  },
  {
   "cell_type": "code",
   "execution_count": 22,
   "metadata": {},
   "outputs": [],
   "source": [
    "CC_data = pd.read_csv('CC_Data_2020.csv')"
   ]
  },
  {
   "cell_type": "code",
   "execution_count": 23,
   "metadata": {},
   "outputs": [],
   "source": [
    "top10_general = CC_data.LinkTitle.value_counts()[:10]\n",
    "CC_data = CC_data[CC_data.LinkTitle.isin(top10_general.index.to_list())]"
   ]
  },
  {
   "cell_type": "markdown",
   "metadata": {},
   "source": [
    "### Import file 2, merge the data on sharing column, then learn more information about whole data set for cleaning processes"
   ]
  },
  {
   "cell_type": "code",
   "execution_count": 24,
   "metadata": {},
   "outputs": [],
   "source": [
    "Customer_data = pd.read_csv('CustomerDataAnon.csv')\n",
    "Customer_CC_data = pd.merge(CC_data,Customer_data,on='ExternalID',how='left')"
   ]
  },
  {
   "cell_type": "code",
   "execution_count": 25,
   "metadata": {},
   "outputs": [
    {
     "data": {
      "text/html": [
       "<div>\n",
       "<style scoped>\n",
       "    .dataframe tbody tr th:only-of-type {\n",
       "        vertical-align: middle;\n",
       "    }\n",
       "\n",
       "    .dataframe tbody tr th {\n",
       "        vertical-align: top;\n",
       "    }\n",
       "\n",
       "    .dataframe thead th {\n",
       "        text-align: right;\n",
       "    }\n",
       "</style>\n",
       "<table border=\"1\" class=\"dataframe\">\n",
       "  <thead>\n",
       "    <tr style=\"text-align: right;\">\n",
       "      <th></th>\n",
       "      <th>Time</th>\n",
       "      <th>VisitorID</th>\n",
       "      <th>ExternalID</th>\n",
       "      <th>Users</th>\n",
       "      <th>Accommodation</th>\n",
       "      <th>LinkTitle</th>\n",
       "      <th>LinkType</th>\n",
       "      <th>ContentInfo</th>\n",
       "      <th>Gender</th>\n",
       "      <th>DateOfBirth</th>\n",
       "      <th>Age</th>\n",
       "      <th>StaffPlanConditions</th>\n",
       "      <th>CareSysCondition</th>\n",
       "    </tr>\n",
       "  </thead>\n",
       "  <tbody>\n",
       "    <tr>\n",
       "      <th>0</th>\n",
       "      <td>10/30/20 13:14</td>\n",
       "      <td>9EDD833D-9D6B-46AC-A85E-DF21425162C4</td>\n",
       "      <td>8846.0</td>\n",
       "      <td>User</td>\n",
       "      <td>Night Support Service</td>\n",
       "      <td>My Music</td>\n",
       "      <td>Category</td>\n",
       "      <td>NaN</td>\n",
       "      <td>F</td>\n",
       "      <td>1/3/77</td>\n",
       "      <td>43.0</td>\n",
       "      <td>NaN</td>\n",
       "      <td>Mental Health Issues</td>\n",
       "    </tr>\n",
       "    <tr>\n",
       "      <th>1</th>\n",
       "      <td>10/30/20 13:14</td>\n",
       "      <td>9EDD833D-9D6B-46AC-A85E-DF21425162C4</td>\n",
       "      <td>8846.0</td>\n",
       "      <td>User</td>\n",
       "      <td>Night Support Service</td>\n",
       "      <td>Entertainment</td>\n",
       "      <td>Category</td>\n",
       "      <td>NaN</td>\n",
       "      <td>F</td>\n",
       "      <td>1/3/77</td>\n",
       "      <td>43.0</td>\n",
       "      <td>NaN</td>\n",
       "      <td>Mental Health Issues</td>\n",
       "    </tr>\n",
       "    <tr>\n",
       "      <th>2</th>\n",
       "      <td>10/30/20 12:57</td>\n",
       "      <td>F95E5F2A-F8A6-4E37-8BF7-3C63F2469C36</td>\n",
       "      <td>7933.0</td>\n",
       "      <td>User</td>\n",
       "      <td>Menzieshill</td>\n",
       "      <td>My Music</td>\n",
       "      <td>Category</td>\n",
       "      <td>NaN</td>\n",
       "      <td>F</td>\n",
       "      <td>3/23/31</td>\n",
       "      <td>89.0</td>\n",
       "      <td>NaN</td>\n",
       "      <td>NaN</td>\n",
       "    </tr>\n",
       "    <tr>\n",
       "      <th>3</th>\n",
       "      <td>10/30/20 12:48</td>\n",
       "      <td>F95E5F2A-F8A6-4E37-8BF7-3C63F2469C36</td>\n",
       "      <td>7933.0</td>\n",
       "      <td>User</td>\n",
       "      <td>Menzieshill</td>\n",
       "      <td>Videos</td>\n",
       "      <td>Category</td>\n",
       "      <td>NaN</td>\n",
       "      <td>F</td>\n",
       "      <td>3/23/31</td>\n",
       "      <td>89.0</td>\n",
       "      <td>NaN</td>\n",
       "      <td>NaN</td>\n",
       "    </tr>\n",
       "    <tr>\n",
       "      <th>4</th>\n",
       "      <td>10/30/20 12:47</td>\n",
       "      <td>F95E5F2A-F8A6-4E37-8BF7-3C63F2469C36</td>\n",
       "      <td>7933.0</td>\n",
       "      <td>User</td>\n",
       "      <td>Menzieshill</td>\n",
       "      <td>Entertainment</td>\n",
       "      <td>Category</td>\n",
       "      <td>NaN</td>\n",
       "      <td>F</td>\n",
       "      <td>3/23/31</td>\n",
       "      <td>89.0</td>\n",
       "      <td>NaN</td>\n",
       "      <td>NaN</td>\n",
       "    </tr>\n",
       "  </tbody>\n",
       "</table>\n",
       "</div>"
      ],
      "text/plain": [
       "             Time                             VisitorID  ExternalID Users  \\\n",
       "0  10/30/20 13:14  9EDD833D-9D6B-46AC-A85E-DF21425162C4      8846.0  User   \n",
       "1  10/30/20 13:14  9EDD833D-9D6B-46AC-A85E-DF21425162C4      8846.0  User   \n",
       "2  10/30/20 12:57  F95E5F2A-F8A6-4E37-8BF7-3C63F2469C36      7933.0  User   \n",
       "3  10/30/20 12:48  F95E5F2A-F8A6-4E37-8BF7-3C63F2469C36      7933.0  User   \n",
       "4  10/30/20 12:47  F95E5F2A-F8A6-4E37-8BF7-3C63F2469C36      7933.0  User   \n",
       "\n",
       "           Accommodation      LinkTitle  LinkType ContentInfo Gender  \\\n",
       "0  Night Support Service       My Music  Category         NaN      F   \n",
       "1  Night Support Service  Entertainment  Category         NaN      F   \n",
       "2            Menzieshill       My Music  Category         NaN      F   \n",
       "3            Menzieshill         Videos  Category         NaN      F   \n",
       "4            Menzieshill  Entertainment  Category         NaN      F   \n",
       "\n",
       "  DateOfBirth   Age StaffPlanConditions      CareSysCondition  \n",
       "0      1/3/77  43.0                 NaN  Mental Health Issues  \n",
       "1      1/3/77  43.0                 NaN  Mental Health Issues  \n",
       "2     3/23/31  89.0                 NaN                   NaN  \n",
       "3     3/23/31  89.0                 NaN                   NaN  \n",
       "4     3/23/31  89.0                 NaN                   NaN  "
      ]
     },
     "execution_count": 25,
     "metadata": {},
     "output_type": "execute_result"
    }
   ],
   "source": [
    "Customer_CC_data.head()"
   ]
  },
  {
   "cell_type": "code",
   "execution_count": 26,
   "metadata": {},
   "outputs": [
    {
     "data": {
      "text/html": [
       "<div>\n",
       "<style scoped>\n",
       "    .dataframe tbody tr th:only-of-type {\n",
       "        vertical-align: middle;\n",
       "    }\n",
       "\n",
       "    .dataframe tbody tr th {\n",
       "        vertical-align: top;\n",
       "    }\n",
       "\n",
       "    .dataframe thead th {\n",
       "        text-align: right;\n",
       "    }\n",
       "</style>\n",
       "<table border=\"1\" class=\"dataframe\">\n",
       "  <thead>\n",
       "    <tr style=\"text-align: right;\">\n",
       "      <th></th>\n",
       "      <th>Time</th>\n",
       "      <th>VisitorID</th>\n",
       "      <th>ExternalID</th>\n",
       "      <th>Users</th>\n",
       "      <th>Accommodation</th>\n",
       "      <th>LinkTitle</th>\n",
       "      <th>LinkType</th>\n",
       "      <th>ContentInfo</th>\n",
       "      <th>Gender</th>\n",
       "      <th>DateOfBirth</th>\n",
       "      <th>Age</th>\n",
       "      <th>StaffPlanConditions</th>\n",
       "      <th>CareSysCondition</th>\n",
       "    </tr>\n",
       "  </thead>\n",
       "  <tbody>\n",
       "    <tr>\n",
       "      <th>163384</th>\n",
       "      <td>10/29/18 2:49</td>\n",
       "      <td>73F6E172-0004-4234-A6C1-DF3997353451</td>\n",
       "      <td>5385.0</td>\n",
       "      <td>User</td>\n",
       "      <td>Broom Main Building</td>\n",
       "      <td>My Interests</td>\n",
       "      <td>Category</td>\n",
       "      <td>NaN</td>\n",
       "      <td>M</td>\n",
       "      <td>9/1/52</td>\n",
       "      <td>68.0</td>\n",
       "      <td>NaN</td>\n",
       "      <td>Brain Injury</td>\n",
       "    </tr>\n",
       "    <tr>\n",
       "      <th>163385</th>\n",
       "      <td>10/29/18 1:27</td>\n",
       "      <td>3FBBBB99-E67F-4511-B9B1-8F402B89DBE5</td>\n",
       "      <td>5107.0</td>\n",
       "      <td>User</td>\n",
       "      <td>NaN</td>\n",
       "      <td>My Music</td>\n",
       "      <td>Category</td>\n",
       "      <td>NaN</td>\n",
       "      <td>NaN</td>\n",
       "      <td>NaN</td>\n",
       "      <td>NaN</td>\n",
       "      <td>NaN</td>\n",
       "      <td>NaN</td>\n",
       "    </tr>\n",
       "    <tr>\n",
       "      <th>163386</th>\n",
       "      <td>10/29/18 1:27</td>\n",
       "      <td>3FBBBB99-E67F-4511-B9B1-8F402B89DBE5</td>\n",
       "      <td>5107.0</td>\n",
       "      <td>User</td>\n",
       "      <td>NaN</td>\n",
       "      <td>Entertainment</td>\n",
       "      <td>Category</td>\n",
       "      <td>NaN</td>\n",
       "      <td>NaN</td>\n",
       "      <td>NaN</td>\n",
       "      <td>NaN</td>\n",
       "      <td>NaN</td>\n",
       "      <td>NaN</td>\n",
       "    </tr>\n",
       "    <tr>\n",
       "      <th>163387</th>\n",
       "      <td>10/29/18 0:59</td>\n",
       "      <td>7B0FC8AD-6EF6-4760-A236-DB0BF969EED7</td>\n",
       "      <td>8639.0</td>\n",
       "      <td>User</td>\n",
       "      <td>Night Support Service</td>\n",
       "      <td>My Music</td>\n",
       "      <td>Category</td>\n",
       "      <td>NaN</td>\n",
       "      <td>M</td>\n",
       "      <td>8/22/55</td>\n",
       "      <td>65.0</td>\n",
       "      <td>NaN</td>\n",
       "      <td>Mental Health Issues</td>\n",
       "    </tr>\n",
       "    <tr>\n",
       "      <th>163388</th>\n",
       "      <td>10/29/18 0:58</td>\n",
       "      <td>7B0FC8AD-6EF6-4760-A236-DB0BF969EED7</td>\n",
       "      <td>8639.0</td>\n",
       "      <td>User</td>\n",
       "      <td>Night Support Service</td>\n",
       "      <td>Entertainment</td>\n",
       "      <td>Category</td>\n",
       "      <td>NaN</td>\n",
       "      <td>M</td>\n",
       "      <td>8/22/55</td>\n",
       "      <td>65.0</td>\n",
       "      <td>NaN</td>\n",
       "      <td>Mental Health Issues</td>\n",
       "    </tr>\n",
       "  </tbody>\n",
       "</table>\n",
       "</div>"
      ],
      "text/plain": [
       "                 Time                             VisitorID  ExternalID Users  \\\n",
       "163384  10/29/18 2:49  73F6E172-0004-4234-A6C1-DF3997353451      5385.0  User   \n",
       "163385  10/29/18 1:27  3FBBBB99-E67F-4511-B9B1-8F402B89DBE5      5107.0  User   \n",
       "163386  10/29/18 1:27  3FBBBB99-E67F-4511-B9B1-8F402B89DBE5      5107.0  User   \n",
       "163387  10/29/18 0:59  7B0FC8AD-6EF6-4760-A236-DB0BF969EED7      8639.0  User   \n",
       "163388  10/29/18 0:58  7B0FC8AD-6EF6-4760-A236-DB0BF969EED7      8639.0  User   \n",
       "\n",
       "                Accommodation      LinkTitle  LinkType ContentInfo Gender  \\\n",
       "163384    Broom Main Building   My Interests  Category         NaN      M   \n",
       "163385                    NaN       My Music  Category         NaN    NaN   \n",
       "163386                    NaN  Entertainment  Category         NaN    NaN   \n",
       "163387  Night Support Service       My Music  Category         NaN      M   \n",
       "163388  Night Support Service  Entertainment  Category         NaN      M   \n",
       "\n",
       "       DateOfBirth   Age StaffPlanConditions      CareSysCondition  \n",
       "163384      9/1/52  68.0                 NaN          Brain Injury  \n",
       "163385         NaN   NaN                 NaN                   NaN  \n",
       "163386         NaN   NaN                 NaN                   NaN  \n",
       "163387     8/22/55  65.0                 NaN  Mental Health Issues  \n",
       "163388     8/22/55  65.0                 NaN  Mental Health Issues  "
      ]
     },
     "execution_count": 26,
     "metadata": {},
     "output_type": "execute_result"
    }
   ],
   "source": [
    "Customer_CC_data.tail()"
   ]
  },
  {
   "cell_type": "code",
   "execution_count": 27,
   "metadata": {},
   "outputs": [
    {
     "data": {
      "text/plain": [
       "Index(['Time', 'VisitorID', 'ExternalID', 'Users', 'Accommodation',\n",
       "       'LinkTitle', 'LinkType', 'ContentInfo', 'Gender', 'DateOfBirth', 'Age',\n",
       "       'StaffPlanConditions', 'CareSysCondition'],\n",
       "      dtype='object')"
      ]
     },
     "execution_count": 27,
     "metadata": {},
     "output_type": "execute_result"
    }
   ],
   "source": [
    "Customer_CC_data.columns"
   ]
  },
  {
   "cell_type": "code",
   "execution_count": 28,
   "metadata": {},
   "outputs": [
    {
     "data": {
      "text/plain": [
       "array(['F', nan, 'M', 'U'], dtype=object)"
      ]
     },
     "execution_count": 28,
     "metadata": {},
     "output_type": "execute_result"
    }
   ],
   "source": [
    "Customer_CC_data['Gender'].unique()"
   ]
  },
  {
   "cell_type": "code",
   "execution_count": 29,
   "metadata": {},
   "outputs": [
    {
     "data": {
      "text/plain": [
       "10"
      ]
     },
     "execution_count": 29,
     "metadata": {},
     "output_type": "execute_result"
    }
   ],
   "source": [
    "Customer_CC_data['LinkTitle'].nunique()"
   ]
  },
  {
   "cell_type": "markdown",
   "metadata": {},
   "source": [
    "### Data Cleaning"
   ]
  },
  {
   "cell_type": "markdown",
   "metadata": {},
   "source": [
    "    Based on the above info, we can see the there are unknown values in the Gender column and several useless columns for this task. So in this step, I cleaned up all the incorrect values and useless columns. After that, converted the Age column into 'int' in order to use plot graph"
   ]
  },
  {
   "cell_type": "code",
   "execution_count": 30,
   "metadata": {},
   "outputs": [],
   "source": [
    "Customer_CC_data.dropna(subset=['Gender'],inplace=True)\n",
    "Customer_CC_data[~Customer_CC_data.Gender.str.contains(\"U\")]\n",
    "Customer_CC_data['Age'] = Customer_CC_data.Age.astype(int)\n",
    "clean_data = Customer_CC_data.drop(columns=['VisitorID', 'Users', 'Accommodation', 'ContentInfo',\n",
    "                            'DateOfBirth', 'StaffPlanConditions'])"
   ]
  },
  {
   "cell_type": "markdown",
   "metadata": {},
   "source": [
    "### Check new data"
   ]
  },
  {
   "cell_type": "code",
   "execution_count": 31,
   "metadata": {},
   "outputs": [
    {
     "data": {
      "text/html": [
       "<div>\n",
       "<style scoped>\n",
       "    .dataframe tbody tr th:only-of-type {\n",
       "        vertical-align: middle;\n",
       "    }\n",
       "\n",
       "    .dataframe tbody tr th {\n",
       "        vertical-align: top;\n",
       "    }\n",
       "\n",
       "    .dataframe thead th {\n",
       "        text-align: right;\n",
       "    }\n",
       "</style>\n",
       "<table border=\"1\" class=\"dataframe\">\n",
       "  <thead>\n",
       "    <tr style=\"text-align: right;\">\n",
       "      <th></th>\n",
       "      <th>Time</th>\n",
       "      <th>ExternalID</th>\n",
       "      <th>LinkTitle</th>\n",
       "      <th>LinkType</th>\n",
       "      <th>Gender</th>\n",
       "      <th>Age</th>\n",
       "      <th>CareSysCondition</th>\n",
       "    </tr>\n",
       "  </thead>\n",
       "  <tbody>\n",
       "    <tr>\n",
       "      <th>0</th>\n",
       "      <td>10/30/20 13:14</td>\n",
       "      <td>8846.0</td>\n",
       "      <td>My Music</td>\n",
       "      <td>Category</td>\n",
       "      <td>F</td>\n",
       "      <td>43</td>\n",
       "      <td>Mental Health Issues</td>\n",
       "    </tr>\n",
       "    <tr>\n",
       "      <th>1</th>\n",
       "      <td>10/30/20 13:14</td>\n",
       "      <td>8846.0</td>\n",
       "      <td>Entertainment</td>\n",
       "      <td>Category</td>\n",
       "      <td>F</td>\n",
       "      <td>43</td>\n",
       "      <td>Mental Health Issues</td>\n",
       "    </tr>\n",
       "    <tr>\n",
       "      <th>2</th>\n",
       "      <td>10/30/20 12:57</td>\n",
       "      <td>7933.0</td>\n",
       "      <td>My Music</td>\n",
       "      <td>Category</td>\n",
       "      <td>F</td>\n",
       "      <td>89</td>\n",
       "      <td>NaN</td>\n",
       "    </tr>\n",
       "    <tr>\n",
       "      <th>3</th>\n",
       "      <td>10/30/20 12:48</td>\n",
       "      <td>7933.0</td>\n",
       "      <td>Videos</td>\n",
       "      <td>Category</td>\n",
       "      <td>F</td>\n",
       "      <td>89</td>\n",
       "      <td>NaN</td>\n",
       "    </tr>\n",
       "    <tr>\n",
       "      <th>4</th>\n",
       "      <td>10/30/20 12:47</td>\n",
       "      <td>7933.0</td>\n",
       "      <td>Entertainment</td>\n",
       "      <td>Category</td>\n",
       "      <td>F</td>\n",
       "      <td>89</td>\n",
       "      <td>NaN</td>\n",
       "    </tr>\n",
       "    <tr>\n",
       "      <th>...</th>\n",
       "      <td>...</td>\n",
       "      <td>...</td>\n",
       "      <td>...</td>\n",
       "      <td>...</td>\n",
       "      <td>...</td>\n",
       "      <td>...</td>\n",
       "      <td>...</td>\n",
       "    </tr>\n",
       "    <tr>\n",
       "      <th>163382</th>\n",
       "      <td>10/29/18 6:18</td>\n",
       "      <td>5347.0</td>\n",
       "      <td>Entertainment</td>\n",
       "      <td>Category</td>\n",
       "      <td>M</td>\n",
       "      <td>52</td>\n",
       "      <td>Cerebral Palsy</td>\n",
       "    </tr>\n",
       "    <tr>\n",
       "      <th>163383</th>\n",
       "      <td>10/29/18 3:23</td>\n",
       "      <td>5977.0</td>\n",
       "      <td>Patience</td>\n",
       "      <td>HTML page</td>\n",
       "      <td>M</td>\n",
       "      <td>52</td>\n",
       "      <td>Multiple Sclerosis</td>\n",
       "    </tr>\n",
       "    <tr>\n",
       "      <th>163384</th>\n",
       "      <td>10/29/18 2:49</td>\n",
       "      <td>5385.0</td>\n",
       "      <td>My Interests</td>\n",
       "      <td>Category</td>\n",
       "      <td>M</td>\n",
       "      <td>68</td>\n",
       "      <td>Brain Injury</td>\n",
       "    </tr>\n",
       "    <tr>\n",
       "      <th>163387</th>\n",
       "      <td>10/29/18 0:59</td>\n",
       "      <td>8639.0</td>\n",
       "      <td>My Music</td>\n",
       "      <td>Category</td>\n",
       "      <td>M</td>\n",
       "      <td>65</td>\n",
       "      <td>Mental Health Issues</td>\n",
       "    </tr>\n",
       "    <tr>\n",
       "      <th>163388</th>\n",
       "      <td>10/29/18 0:58</td>\n",
       "      <td>8639.0</td>\n",
       "      <td>Entertainment</td>\n",
       "      <td>Category</td>\n",
       "      <td>M</td>\n",
       "      <td>65</td>\n",
       "      <td>Mental Health Issues</td>\n",
       "    </tr>\n",
       "  </tbody>\n",
       "</table>\n",
       "<p>107177 rows × 7 columns</p>\n",
       "</div>"
      ],
      "text/plain": [
       "                  Time  ExternalID      LinkTitle   LinkType Gender  Age  \\\n",
       "0       10/30/20 13:14      8846.0       My Music   Category      F   43   \n",
       "1       10/30/20 13:14      8846.0  Entertainment   Category      F   43   \n",
       "2       10/30/20 12:57      7933.0       My Music   Category      F   89   \n",
       "3       10/30/20 12:48      7933.0         Videos   Category      F   89   \n",
       "4       10/30/20 12:47      7933.0  Entertainment   Category      F   89   \n",
       "...                ...         ...            ...        ...    ...  ...   \n",
       "163382   10/29/18 6:18      5347.0  Entertainment   Category      M   52   \n",
       "163383   10/29/18 3:23      5977.0       Patience  HTML page      M   52   \n",
       "163384   10/29/18 2:49      5385.0   My Interests   Category      M   68   \n",
       "163387   10/29/18 0:59      8639.0       My Music   Category      M   65   \n",
       "163388   10/29/18 0:58      8639.0  Entertainment   Category      M   65   \n",
       "\n",
       "            CareSysCondition  \n",
       "0       Mental Health Issues  \n",
       "1       Mental Health Issues  \n",
       "2                        NaN  \n",
       "3                        NaN  \n",
       "4                        NaN  \n",
       "...                      ...  \n",
       "163382        Cerebral Palsy  \n",
       "163383    Multiple Sclerosis  \n",
       "163384          Brain Injury  \n",
       "163387  Mental Health Issues  \n",
       "163388  Mental Health Issues  \n",
       "\n",
       "[107177 rows x 7 columns]"
      ]
     },
     "execution_count": 31,
     "metadata": {},
     "output_type": "execute_result"
    }
   ],
   "source": [
    "clean_data"
   ]
  },
  {
   "cell_type": "code",
   "execution_count": 32,
   "metadata": {},
   "outputs": [
    {
     "data": {
      "text/plain": [
       "array(['F', 'M', 'U'], dtype=object)"
      ]
     },
     "execution_count": 32,
     "metadata": {},
     "output_type": "execute_result"
    }
   ],
   "source": [
    "clean_data['Gender'].unique()"
   ]
  },
  {
   "cell_type": "markdown",
   "metadata": {},
   "source": [
    " \n"
   ]
  },
  {
   "cell_type": "markdown",
   "metadata": {},
   "source": [
    "### Relationship between age and top 10 activities"
   ]
  },
  {
   "cell_type": "code",
   "execution_count": 33,
   "metadata": {},
   "outputs": [
    {
     "data": {
      "text/plain": [
       "<matplotlib.axes._subplots.AxesSubplot at 0x7fdb6905dc40>"
      ]
     },
     "execution_count": 33,
     "metadata": {},
     "output_type": "execute_result"
    },
    {
     "data": {
      "image/png": "[encoded data removed]",
      "text/plain": [
       "<Figure size 1280x800 with 1 Axes>"
      ]
     },
     "metadata": {},
     "output_type": "display_data"
    }
   ],
   "source": [
    "figure(num=None, figsize=(16, 10), dpi=80, facecolor='w', edgecolor='k')\n",
    "sns.boxplot(x='LinkTitle',y='Age',data=Customer_CC_data)"
   ]
  },
  {
   "cell_type": "markdown",
   "metadata": {},
   "source": [
    "### Based on this boxplot, the activity 'My music & Google' cover a huge age range, activity such as 'Entertainment, Play Games & Single Player Games' cover a medium range of ages, and the age range for other activities are even smaller. I believe this information could potentially help the app development team to prioritize different activities according to different age group"
   ]
  },
  {
   "cell_type": "markdown",
   "metadata": {},
   "source": [
    " "
   ]
  },
  {
   "cell_type": "markdown",
   "metadata": {},
   "source": [
    " "
   ]
  },
  {
   "cell_type": "markdown",
   "metadata": {},
   "source": [
    "### Relationship between gender and top 10 activities"
   ]
  },
  {
   "cell_type": "code",
   "execution_count": 34,
   "metadata": {},
   "outputs": [
    {
     "data": {
      "text/plain": [
       "<matplotlib.axes._subplots.AxesSubplot at 0x7fdb6905d700>"
      ]
     },
     "execution_count": 34,
     "metadata": {},
     "output_type": "execute_result"
    },
    {
     "data": {
      "image/png": "[encoded data removed]",
      "text/plain": [
       "<Figure size 432x288 with 1 Axes>"
      ]
     },
     "metadata": {
      "needs_background": "light"
     },
     "output_type": "display_data"
    }
   ],
   "source": [
    "pd.crosstab(clean_data.Gender,clean_data.LinkTitle).plot(kind='bar')"
   ]
  },
  {
   "cell_type": "markdown",
   "metadata": {},
   "source": [
    "### Based on this bar chart, the female residences have a higher use frequences of 'Patience' function than male residences, and male use 'Video' and Youtube much more than female."
   ]
  },
  {
   "cell_type": "markdown",
   "metadata": {},
   "source": [
    " \n"
   ]
  },
  {
   "cell_type": "markdown",
   "metadata": {},
   "source": [
    " "
   ]
  },
  {
   "cell_type": "markdown",
   "metadata": {},
   "source": [
    "### Relationship between disability and top 10 activities"
   ]
  },
  {
   "cell_type": "code",
   "execution_count": 35,
   "metadata": {},
   "outputs": [
    {
     "data": {
      "text/plain": [
       "<matplotlib.axes._subplots.AxesSubplot at 0x7fdb684cbdc0>"
      ]
     },
     "execution_count": 35,
     "metadata": {},
     "output_type": "execute_result"
    },
    {
     "data": {
      "image/png": "[encoded data removed]",
      "text/plain": [
       "<Figure size 432x288 with 1 Axes>"
      ]
     },
     "metadata": {
      "needs_background": "light"
     },
     "output_type": "display_data"
    }
   ],
   "source": [
    "most_10_CareSysCondition = Customer_CC_data.CareSysCondition.value_counts()[:10]\n",
    "Customer_CC_data = Customer_CC_data[Customer_CC_data.CareSysCondition.isin(most_10_CareSysCondition.index.to_list())]\n",
    "pd.crosstab(Customer_CC_data.CareSysCondition,Customer_CC_data.LinkTitle).plot(kind='bar')"
   ]
  },
  {
   "cell_type": "markdown",
   "metadata": {},
   "source": [
    " "
   ]
  },
  {
   "cell_type": "markdown",
   "metadata": {},
   "source": [
    " "
   ]
  },
  {
   "cell_type": "markdown",
   "metadata": {},
   "source": [
    " "
   ]
  },
  {
   "cell_type": "markdown",
   "metadata": {},
   "source": [
    " "
   ]
  },
  {
   "cell_type": "markdown",
   "metadata": {},
   "source": [
    " "
   ]
  },
  {
   "cell_type": "markdown",
   "metadata": {},
   "source": [
    "# Reflection & Hypothesise"
   ]
  },
  {
   "cell_type": "markdown",
   "metadata": {},
   "source": [
    "### Above analysis result and charts has provided some basic understanding of the data. I have given some detailed hypothesizes and suggestions under each data frame and graphs created above. "
   ]
  },
  {
   "cell_type": "markdown",
   "metadata": {},
   "source": [
    "### In order to verify the above suggestion and hypothesize, I think the best practice is to put it in use in the real world, for example, add an autosuggestion feature into the app to help the user find the functions they might be interested in, such as people use the app built-in video function might also interested watching some Youtube video based on the analysis above. "
   ]
  },
  {
   "cell_type": "markdown",
   "metadata": {},
   "source": [
    "### In summary, most of the analysis is focused on the correlation between activities and several different factors. I think this basic analysis can provide some useful information to help the stakeholders to better understand their user and to further improve their app"
   ]
  },
  {
   "cell_type": "markdown",
   "metadata": {},
   "source": [
    " "
   ]
  },
  {
   "cell_type": "markdown",
   "metadata": {},
   "source": [
    " "
   ]
  },
  {
   "cell_type": "markdown",
   "metadata": {},
   "source": [
    " "
   ]
  },
  {
   "cell_type": "markdown",
   "metadata": {},
   "source": [
    " "
   ]
  },
  {
   "cell_type": "markdown",
   "metadata": {},
   "source": [
    " ## Jiawen Li / Group 17 / Assignment 2"
   ]
  }
 ],
 "metadata": {
  "kernelspec": {
   "display_name": "Python 3",
   "language": "python",
   "name": "python3"
  },
  "language_info": {
   "codemirror_mode": {
    "name": "ipython",
    "version": 3
   },
   "file_extension": ".py",
   "mimetype": "text/x-python",
   "name": "python",
   "nbconvert_exporter": "python",
   "pygments_lexer": "ipython3",
   "version": "3.8.3"
  }
 },
 "nbformat": 4,
 "nbformat_minor": 2
}
